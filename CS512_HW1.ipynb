{
 "nbformat": 4,
 "nbformat_minor": 0,
 "metadata": {
  "colab": {
   "provenance": []
  },
  "kernelspec": {
   "name": "python3",
   "display_name": "Python 3"
  },
  "language_info": {
   "name": "python"
  }
 },
 "cells": [
  {
   "cell_type": "markdown",
   "metadata": {
    "id": "006ba20f"
   },
   "source": [
    "# CS512 - Homework 1\n",
    "**Due Date:** Monday, October 28th, 08.00\n",
    "\n",
    "## Submission Guidelines:\n",
    "- Please ensure that your notebook is complete with all outputs displayed. This is important, so verify that none of the outputs are missing before submission.\n",
    "- Save your notebook file using the following format: **CS512_Homework1_FirstName_LastName.ipynb** For example: *CS512_Homework1_Mert_Pekey.ipynb*"
   ]
  },
  {
   "cell_type": "markdown",
   "metadata": {
    "id": "700bd15f"
   },
   "source": [
    "## Objective:\n",
    "The goal of this homework is to help you gain hands-on experience with two fundamental classification techniques, **k-Nearest Neighbors (kNN)** and **Decision Trees**, while introducing performance evaluation metrics. You will train both classifiers on a dataset, evaluate their performance using a **Confusion Matrix**, plot the **ROC Curve**, and explore how **hyperparameters** impact the performance of these classifiers. Additionally, you will generate some **visualizations** to better understand the data and the models."
   ]
  },
  {
   "cell_type": "markdown",
   "metadata": {
    "id": "08568f18"
   },
   "source": [
    "## Dataset:\n",
    "For this homework, you will use the Breast Cancer Wisconsin (Diagnostic) Dataset, a well-known dataset from scikit-learn that is commonly used for binary classification tasks. This dataset contains features that are computed from a digitized image of a fine needle aspirate (FNA) of a breast mass, describing the characteristics of the cell nuclei present in the image. The goal is to classify whether the breast cancer is malignant (cancerous) or benign (non-cancerous)."
   ]
  },
  {
   "cell_type": "markdown",
   "source": [
    "### Instructions:"
   ],
   "metadata": {
    "id": "qWb4xJHeFIJ-"
   }
  },
  {
   "cell_type": "markdown",
   "metadata": {
    "id": "7e97016d"
   },
   "source": [
    "1. **Load the Dataset**:\n",
    "    - Load the Dataset: Use sklearn.datasets.load_breast_cancer() to import the dataset.\n",
    "    - Split the data into a training set (70%), validation set (15%), and test set (15%).\n",
    "    - Print the data sizes.\n",
    "2. **Exploratory Data Analysis (EDA) on Training Data:**\n",
    "    - Class Distribution: Visualize the class distribution using a bar plot.\n",
    "    - Feature Analysis: For the first 5 features:\n",
    "        - Plot pairwise relationships using a scatter plot matrix or pairplot, coloring points by class.\n",
    "        - Plot the correlation matrix for these features.\n",
    "    - Summary Statistics: Display basic statistics (mean, standard deviation) for the first 5 features, grouped by class (malignant vs. benign).\n",
    "3. **Preprocessing:**\n",
    "    - Standardize the feature values (using StandardScaler or similar) before training the model.\n"
   ]
  },
  {
   "cell_type": "code",
   "metadata": {
    "id": "f4d3de16",
    "jupyter": {
     "is_executing": true
    }
   },
   "source": [
    "from sklearn.datasets import load_breast_cancer\n",
    "from sklearn.model_selection import train_test_split\n",
    "\n",
    "# Load the dataset\n",
    "data = load_breast_cancer()\n",
    "X = data.data  # Features\n",
    "y = data.target  # Labels\n",
    "\n",
    "# Split the dataset (70% training, 15% validation, 15% testing)\n",
    "X_train, X_temp, y_train, y_temp = train_test_split(X, y, test_size=0.30, random_state=42, stratify=y)\n",
    "X_val, X_test, y_val, y_test = train_test_split(X_temp, y_temp, test_size=0.50, random_state=42, stratify=y_temp)\n",
    "\n",
    "# Print the data sizes\n",
    "print(f\"Training data size: {X_train.shape}\")\n",
    "print(f\"Validation data size: {X_val.shape}\")\n",
    "print(f\"Test data size: {X_test.shape}\")"
   ],
   "outputs": [],
   "execution_count": null
  },
  {
   "cell_type": "markdown",
   "metadata": {
    "id": "bbc943f2"
   },
   "source": [
    "4. **Train Classifiers:**\n",
    "    - Train a k-Nearest Neighbors (kNN) classifier using Scikit-Learn.\n",
    "    - Train a Decision Tree classifier using Scikit-Learn.\n",
    "    - Use the default parameters for both classifiers initially.\n",
    "    - Evaluate both classifiers on the validation set using:\n",
    "        - Accuracy as a baseline metric.\n",
    "        - Confusion Matrix and Classification Report (precision, recall, F1-score) to analyze performance.\n",
    "    - **Hyperparameter Tuning:** Experiment by tuning the hyperparameters and compare the results on the **validation set**.\n",
    "        - Tune n_neighbors from 1 to 20 for kNN\n",
    "        - Tune max_depth for 1 to 10 for Decision Tree\n",
    "        - Plot accuracy vs. hyperparameters:\n",
    "            - For kNN, plot accuracy vs. n_neighbors.\n",
    "            - For Decision Tree, plot accuracy vs. max_depth.\n",
    "    - **Feature Importance:** For the Decision Tree, visualize the feature importance on the validation set using a bar plot."
   ]
  },
  {
   "cell_type": "code",
   "execution_count": null,
   "metadata": {
    "id": "1fa36880"
   },
   "outputs": [],
   "source": []
  },
  {
   "cell_type": "markdown",
   "metadata": {
    "id": "59c32ceb"
   },
   "source": [
    "5. **Evaluate on Test Data:**\n",
    "\n",
    "    - After choosing the best models from the validation set, evaluate the performance on the test set.\n",
    "    - Compute the following metrics for both models:\n",
    "        - Accuracy\n",
    "        - Precision\n",
    "        - Recall\n",
    "        - F1-score\n",
    "        - Confusion Matrix\n",
    "        - AUC Score\n",
    "        - Plot the ROC curve for the positive class (malignant).\n"
   ]
  },
  {
   "cell_type": "code",
   "execution_count": null,
   "metadata": {
    "id": "a9ffbc8a"
   },
   "outputs": [],
   "source": []
  },
  {
   "cell_type": "markdown",
   "metadata": {
    "id": "4033dd66"
   },
   "source": [
    "6. **Analysis**:\n",
    "    - Answer the followings briefly:\n",
    "        - Compare the performance of the two classifiers based on the metrics computed (both with default and tuned hyperparameters).\n",
    "        - Discuss how changing hyperparameters (k for kNN and max_depth for Decision Tree) affected the performance.\n",
    "        - Summarize which classifier performed better overall and why.\n"
   ]
  },
  {
   "cell_type": "markdown",
   "source": [],
   "metadata": {
    "id": "FkowOtO1FBbE"
   }
  }
 ]
}
