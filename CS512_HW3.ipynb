{
  "nbformat": 4,
  "nbformat_minor": 0,
  "metadata": {
    "colab": {
      "provenance": []
    },
    "kernelspec": {
      "name": "python3",
      "display_name": "Python 3"
    },
    "language_info": {
      "name": "python"
    }
  },
  "cells": [
    {
      "cell_type": "markdown",
      "source": [
        "a)\n",
        "\n",
        "### Backpropagation Derivation\n",
        "\n",
        "**Given the equations:**\n",
        "$$\n",
        "l(x, y) = (f(x, y) - t)^2\n",
        "$$\n",
        "$$\n",
        "f(x, y) = g(x, y) + yc\n",
        "$$\n",
        "$$\n",
        "g(x, y) = \\sigma(h(x, y))\n",
        "$$\n",
        "$$\n",
        "h(x, y) = ax + by\n",
        "$$\n",
        "$$\n",
        "\\sigma(s) = \\frac{1}{1 + \\exp(-s)}\n",
        "$$\n",
        "\n",
        "We aim to compute:\n",
        "$$\n",
        "\\frac{\\partial l(x, y)}{\\partial a}, \\quad \\frac{\\partial l(x, y)}{\\partial b}, \\quad \\frac{\\partial l(x, y)}{\\partial c}.\n",
        "$$\n",
        "\n",
        "---\n",
        "\n",
        "### Derivation Steps\n",
        "\n",
        "**1. Partial Derivative of \\( l(x, y) \\) w.r.t. \\( f(x, y) \\):**\n",
        "$$\n",
        "\\frac{\\partial l}{\\partial f} = 2(f(x, y) - t)\n",
        "$$\n",
        "\n",
        "**2. Partial Derivatives of \\( f(x, y) \\) w.r.t. \\( g(x, y) \\) and \\( c \\):**\n",
        "$$\n",
        "\\frac{\\partial f}{\\partial g} = 1, \\quad \\frac{\\partial f}{\\partial c} = y\n",
        "$$\n",
        "\n",
        "**3. Partial Derivative of \\( g(x, y) \\) w.r.t. \\( h(x, y) \\):**\n",
        "$$\n",
        "\\frac{\\partial g}{\\partial h} = \\sigma(h(x, y))(1 - \\sigma(h(x, y)))\n",
        "$$\n",
        "\n",
        "**4. Partial Derivatives of \\( h(x, y) \\) w.r.t. \\( a \\) and \\( b \\):**\n",
        "$$\n",
        "\\frac{\\partial h}{\\partial a} = x, \\quad \\frac{\\partial h}{\\partial b} = y\n",
        "$$\n",
        "\n",
        "---\n",
        "\n",
        "### Applying the Chain Rule\n",
        "\n",
        "**Gradient w.r.t. \\( c \\):**\n",
        "$$\n",
        "\\frac{\\partial l}{\\partial c} = \\frac{\\partial l}{\\partial f} \\cdot \\frac{\\partial f}{\\partial c}\n",
        "= 2(f(x, y) - t) \\cdot y\n",
        "$$\n",
        "\n",
        "**Gradient w.r.t. \\( b \\):**\n",
        "$$\n",
        "\\frac{\\partial l}{\\partial b} = \\frac{\\partial l}{\\partial f} \\cdot \\frac{\\partial f}{\\partial g} \\cdot \\frac{\\partial g}{\\partial h} \\cdot \\frac{\\partial h}{\\partial b}\n",
        "$$\n",
        "\n",
        "Substitute:\n",
        "$$\n",
        "\\frac{\\partial l}{\\partial b} = 2(f(x, y) - t) \\cdot \\sigma(h(x, y))(1 - \\sigma(h(x, y))) \\cdot y\n",
        "$$\n",
        "\n",
        "**Gradient w.r.t. \\( a \\):**\n",
        "$$\n",
        "\\frac{\\partial l}{\\partial a} = \\frac{\\partial l}{\\partial f} \\cdot \\frac{\\partial f}{\\partial g} \\cdot \\frac{\\partial g}{\\partial h} \\cdot \\frac{\\partial h}{\\partial a}\n",
        "$$\n",
        "\n",
        "Substitute:\n",
        "$$\n",
        "\\frac{\\partial l}{\\partial a} = 2(f(x, y) - t) \\cdot \\sigma(h(x, y))(1 - \\sigma(h(x, y))) \\cdot x\n",
        "$$\n",
        "\n",
        "---\n",
        "\n",
        "### Final Gradients\n",
        "$$\n",
        "\\frac{\\partial l}{\\partial a} = 2(f(x, y) - t) \\cdot \\sigma(h(x, y))(1 - \\sigma(h(x, y))) \\cdot x\n",
        "$$\n",
        "$$\n",
        "\\frac{\\partial l}{\\partial b} = 2(f(x, y) - t) \\cdot \\sigma(h(x, y))(1 - \\sigma(h(x, y))) \\cdot y\n",
        "$$\n",
        "$$\n",
        "\\frac{\\partial l}{\\partial c} = 2(f(x, y) - t) \\cdot y\n",
        "$$"
      ],
      "metadata": {
        "id": "2vj0t5X5S0cE"
      }
    },
    {
      "cell_type": "markdown",
      "source": [
        "b)\n",
        "\n",
        "### Forward and Backward Pass for Given Values\n",
        "\n",
        "**Problem Setup:**\n",
        "We are given:\n",
        "$$\n",
        "x = 2, \\quad y = -1, \\quad a = 1, \\quad b = 2, \\quad c = -0.5, \\quad t = 0\n",
        "$$\n",
        "\n",
        "Equations:\n",
        "$$\n",
        "l(x, y) = (f(x, y) - t)^2\n",
        "$$\n",
        "$$\n",
        "f(x, y) = g(x, y) + yc\n",
        "$$\n",
        "$$\n",
        "g(x, y) = \\sigma(h(x, y))\n",
        "$$\n",
        "$$\n",
        "h(x, y) = ax + by\n",
        "$$\n",
        "$$\n",
        "\\sigma(s) = \\frac{1}{1 + \\exp(-s)}\n",
        "$$\n",
        "\n",
        "---\n",
        "\n",
        "### Forward Pass\n",
        "\n",
        "**Step 1: Compute \\( h(x, y) \\)**\n",
        "\n",
        "$$\n",
        "h(x, y) = ax + by = (1)(2) + (2)(-1) = 2 - 2 = 0\n",
        "$$\n",
        "\n",
        "**Step 2: Compute \\( g(x, y) \\)**\n",
        "\n",
        "$$\n",
        "g(x, y) = \\sigma(h(x, y)) = \\sigma(0) = \\frac{1}{1 + \\exp(0)} = \\frac{1}{2} = 0.5\n",
        "$$\n",
        "\n",
        "**Step 3: Compute \\( f(x, y) \\)**\n",
        "\n",
        "$$\n",
        "f(x, y) = g(x, y) + yc = 0.5 + (-1)(-0.5) = 0.5 + 0.5 = 1.0\n",
        "$$\n",
        "\n",
        "**Step 4: Compute \\( l(x, y) \\)**\n",
        "\n",
        "$$\n",
        "l(x, y) = (f(x, y) - t)^2 = (1.0 - 0)^2 = 1.0\n",
        "$$\n",
        "\n",
        "---\n",
        "\n",
        "### Backward Pass\n",
        "\n",
        "**Step 1: Compute \\(\\frac{\\partial l}{\\partial f}\\)**\n",
        "\n",
        "$$\n",
        "\\frac{\\partial l}{\\partial f} = 2(f(x, y) - t) = 2(1.0 - 0) = 2\n",
        "$$\n",
        "\n",
        "**Step 2: Compute \\(\\frac{\\partial l}{\\partial c}\\)**\n",
        "\n",
        "$$\n",
        "\\frac{\\partial l}{\\partial c} = \\frac{\\partial l}{\\partial f} \\cdot \\frac{\\partial f}{\\partial c} = 2 \\cdot y = 2 \\cdot (-1) = -2\n",
        "$$\n",
        "\n",
        "**Step 3: Compute \\(\\frac{\\partial l}{\\partial g}\\)**\n",
        "\n",
        "$$\n",
        "\\frac{\\partial f}{\\partial g} = 1 \\implies \\frac{\\partial l}{\\partial g} = \\frac{\\partial l}{\\partial f} \\cdot \\frac{\\partial f}{\\partial g} = 2 \\cdot 1 = 2\n",
        "$$\n",
        "\n",
        "**Step 4: Compute \\(\\frac{\\partial l}{\\partial h}\\)**\n",
        "\n",
        "First:\n",
        "$$\n",
        "\\frac{\\partial g}{\\partial h} = \\sigma(h)(1 - \\sigma(h)) = 0.5(1 - 0.5) = 0.5 \\times 0.5 = 0.25\n",
        "$$\n",
        "\n",
        "Then:\n",
        "$$\n",
        "\\frac{\\partial l}{\\partial h} = \\frac{\\partial l}{\\partial g} \\cdot \\frac{\\partial g}{\\partial h} = 2 \\cdot 0.25 = 0.5\n",
        "$$\n",
        "\n",
        "**Step 5: Compute \\(\\frac{\\partial l}{\\partial a}\\)**\n",
        "\n",
        "$$\n",
        "\\frac{\\partial h}{\\partial a} = x = 2\n",
        "$$\n",
        "$$\n",
        "\\frac{\\partial l}{\\partial a} = \\frac{\\partial l}{\\partial h} \\cdot \\frac{\\partial h}{\\partial a} = 0.5 \\cdot 2 = 1.0\n",
        "$$\n",
        "\n",
        "**Step 6: Compute \\(\\frac{\\partial l}{\\partial b}\\)**\n",
        "\n",
        "$$\n",
        "\\frac{\\partial h}{\\partial b} = y = -1\n",
        "$$\n",
        "$$\n",
        "\\frac{\\partial l}{\\partial b} = \\frac{\\partial l}{\\partial h} \\cdot \\frac{\\partial h}{\\partial b} = 0.5 \\cdot (-1) = -0.5\n",
        "$$\n",
        "\n",
        "---\n",
        "\n",
        "### Final Results\n",
        "\n",
        "**Loss:**\n",
        "$$\n",
        "l(x, y) = 1.0\n",
        "$$\n",
        "\n",
        "**Gradients:**\n",
        "$$\n",
        "\\frac{\\partial l}{\\partial a} = 1.0\n",
        "$$\n",
        "$$\n",
        "\\frac{\\partial l}{\\partial b} = -0.5\n",
        "$$\n",
        "$$\n",
        "\\frac{\\partial l}{\\partial c} = -2.0\n",
        "$$"
      ],
      "metadata": {
        "id": "YdzinMJ1Sz1W"
      }
    },
    {
      "cell_type": "code",
      "source": [
        "# Libraries\n",
        "import pandas as pd\n",
        "import numpy as np\n",
        "from sklearn.model_selection import train_test_split\n",
        "import xgboost as xgb\n",
        "from xgboost import XGBClassifier\n",
        "from sklearn.metrics import roc_auc_score, roc_curve, auc\n",
        "from sklearn.preprocessing import label_binarize\n",
        "from sklearn.preprocessing import label_binarize\n",
        "import matplotlib.pyplot as plt"
      ],
      "metadata": {
        "id": "Pxk-IeaJ4L00"
      },
      "execution_count": 1,
      "outputs": []
    },
    {
      "cell_type": "code",
      "execution_count": 2,
      "metadata": {
        "id": "9nmh7i3nRCe8"
      },
      "outputs": [],
      "source": [
        "#Download the data\n",
        "\n",
        "# Set random seed for reproducibility\n",
        "np.random.seed(42)\n",
        "\n",
        "data = pd.read_csv(\"Sensorless_drive_diagnosis.txt\", sep=' ', header=None)\n",
        "\n",
        "# The last column contains the labels.\n",
        "X = data.iloc[:, :-1].values\n",
        "y = data.iloc[:, -1].values\n",
        "y = y - 1  # This will now make labels [0, 1, 2, ..., 10] since XGBoost’s classifier expects class labels to start from 0"
      ]
    },
    {
      "cell_type": "code",
      "source": [
        "# Print the data shape\n",
        "print(\"Features shape:\", X.shape)\n",
        "print(\"Labels shape:\", y.shape)"
      ],
      "metadata": {
        "colab": {
          "base_uri": "https://localhost:8080/"
        },
        "id": "9IfU1FxM5L2P",
        "outputId": "b46c16c9-b50c-4491-9aa9-6524f3bc85df"
      },
      "execution_count": 3,
      "outputs": [
        {
          "output_type": "stream",
          "name": "stdout",
          "text": [
            "Features shape: (58509, 48)\n",
            "Labels shape: (58509,)\n"
          ]
        }
      ]
    },
    {
      "cell_type": "code",
      "source": [
        "# First split into train+val and test (80/20)\n",
        "X_trainval, X_test, y_trainval, y_test = train_test_split(X, y, test_size=0.2, random_state=42, stratify=y)\n",
        "\n",
        "# Now split trainval into train and validation\n",
        "X_train, X_val, y_train, y_val = train_test_split(X_trainval, y_trainval, test_size=0.25, random_state=42, stratify=y_trainval)\n",
        "\n",
        "print(\"Train shape:\", X_train.shape, y_train.shape)\n",
        "print(\"Validation shape:\", X_val.shape, y_val.shape)\n",
        "print(\"Test shape:\", X_test.shape, y_test.shape)"
      ],
      "metadata": {
        "colab": {
          "base_uri": "https://localhost:8080/"
        },
        "id": "d2eESJvH7DCL",
        "outputId": "0cd51f2a-9ac2-4105-9841-9ce35cf134e4"
      },
      "execution_count": 4,
      "outputs": [
        {
          "output_type": "stream",
          "name": "stdout",
          "text": [
            "Train shape: (35105, 48) (35105,)\n",
            "Validation shape: (11702, 48) (11702,)\n",
            "Test shape: (11702, 48) (11702,)\n"
          ]
        }
      ]
    },
    {
      "cell_type": "code",
      "source": [
        "# Binarize labels for AUC calculation:\n",
        "classes = np.unique(y_train)\n",
        "y_train_bin = label_binarize(y_train, classes=classes)\n",
        "y_val_bin = label_binarize(y_val, classes=classes)\n",
        "y_test_bin = label_binarize(y_test, classes=classes)"
      ],
      "metadata": {
        "id": "wKVIxWnJ8c-n"
      },
      "execution_count": 5,
      "outputs": []
    },
    {
      "cell_type": "code",
      "source": [
        "# AUC Computing function\n",
        "def compute_auc(model, X, y_bin):\n",
        "    y_proba = model.predict_proba(X)\n",
        "    # micro-average AUC:\n",
        "    return roc_auc_score(y_bin, y_proba, average='micro', multi_class='ovr')"
      ],
      "metadata": {
        "id": "mQXd49rg8hb5"
      },
      "execution_count": 6,
      "outputs": []
    },
    {
      "cell_type": "code",
      "source": [
        "# Estimetor tuning with fixed learning rate 0.2\n",
        "n_estimators_list = [10, 50, 100, 500]\n",
        "val_auc_scores = []\n",
        "\n",
        "for n in n_estimators_list:\n",
        "    model = XGBClassifier(random_state=42, eval_metric='mlogloss', learning_rate=0.1, n_estimators=n)\n",
        "\n",
        "    model.fit(X_train, y_train)\n",
        "    auc_score = compute_auc(model, X_val, y_val_bin)\n",
        "    val_auc_scores.append(auc_score)\n",
        "\n",
        "plt.plot(n_estimators_list, val_auc_scores, marker='o')\n",
        "plt.xlabel(\"Number of Trees (n_estimators)\")\n",
        "plt.ylabel(\"Micro-Averaged AUC on Validation Set\")\n",
        "plt.title(\"Tuning n_estimators with learning_rate=0.1\")\n",
        "plt.show()\n",
        "\n",
        "best_n = n_estimators_list[np.argmax(val_auc_scores)]\n",
        "print(\"Best n_estimators:\", best_n)"
      ],
      "metadata": {
        "colab": {
          "base_uri": "https://localhost:8080/",
          "height": 489
        },
        "id": "UnkANtmn8mHW",
        "outputId": "0e378a06-2818-4c70-851e-f2adccf156e7"
      },
      "execution_count": 7,
      "outputs": [
        {
          "output_type": "display_data",
          "data": {
            "text/plain": [
              "<Figure size 640x480 with 1 Axes>"
            ],
            "image/png": "[encoded data removed]"
          },
          "metadata": {}
        },
        {
          "output_type": "stream",
          "name": "stdout",
          "text": [
            "Best n_estimators: 500\n"
          ]
        }
      ]
    },
    {
      "cell_type": "code",
      "source": [
        "# Depth tuning with fixed learning rate 0.2 and estimator\n",
        "max_depth_list = [4, 6, 8]\n",
        "val_auc_depth = []\n",
        "\n",
        "for d in max_depth_list:\n",
        "    model = XGBClassifier(random_state=42, eval_metric='mlogloss',\n",
        "                          learning_rate=0.1, n_estimators=best_n, max_depth=d)\n",
        "    model.fit(X_train, y_train)\n",
        "    auc_score = compute_auc(model, X_val, y_val_bin)\n",
        "    val_auc_depth.append(auc_score)\n",
        "\n",
        "best_depth = max_depth_list[np.argmax(val_auc_depth)]\n",
        "print(\"Best max_depth:\", best_depth)"
      ],
      "metadata": {
        "colab": {
          "base_uri": "https://localhost:8080/"
        },
        "id": "-vYCuaqL8v_c",
        "outputId": "cdd3ffd5-02f9-42f8-f40a-b094173925c9"
      },
      "execution_count": 8,
      "outputs": [
        {
          "output_type": "stream",
          "name": "stdout",
          "text": [
            "Best max_depth: 8\n"
          ]
        }
      ]
    },
    {
      "cell_type": "code",
      "source": [
        "# Learning rate tuning with fixed depth and estimator\n",
        "learning_rates = [0.001, 0.01, 0.1]\n",
        "val_auc_lr = []\n",
        "\n",
        "for lr in learning_rates:\n",
        "    model = XGBClassifier(random_state=42, eval_metric='mlogloss',\n",
        "                          learning_rate=lr, n_estimators=best_n, max_depth=best_depth)\n",
        "    model.fit(X_train, y_train)\n",
        "    auc_score = compute_auc(model, X_val, y_val_bin)\n",
        "    val_auc_lr.append(auc_score)\n",
        "\n",
        "best_lr = learning_rates[np.argmax(val_auc_lr)]\n",
        "print(\"Best learning_rate:\", best_lr)"
      ],
      "metadata": {
        "colab": {
          "base_uri": "https://localhost:8080/"
        },
        "id": "wXZx-2o38xZg",
        "outputId": "62d8de96-b017-4d52-eeef-03cc3be5b5c7"
      },
      "execution_count": 9,
      "outputs": [
        {
          "output_type": "stream",
          "name": "stdout",
          "text": [
            "Best learning_rate: 0.1\n"
          ]
        }
      ]
    },
    {
      "cell_type": "code",
      "source": [
        "# Testing with best hyper parameters\n",
        "X_trainfull = np.vstack((X_train, X_val))\n",
        "y_trainfull = np.hstack((y_train, y_val))\n",
        "\n",
        "model = XGBClassifier(random_state=42, eval_metric='mlogloss',\n",
        "                      learning_rate=best_lr, n_estimators=best_n, max_depth=best_depth)\n",
        "model.fit(X_trainfull, y_trainfull)\n",
        "\n",
        "test_auc = compute_auc(model, X_test, y_test_bin)\n",
        "print(\"Test AUC:\", test_auc)\n",
        "\n",
        "y_proba_test = model.predict_proba(X_test)\n",
        "\n",
        "# Micro-average ROC curve:\n",
        "fpr, tpr, _ = roc_curve(y_test_bin.ravel(), y_proba_test.ravel())\n",
        "roc_auc = auc(fpr, tpr)\n",
        "\n",
        "plt.figure()\n",
        "plt.plot(fpr, tpr, color='darkorange', lw=2, label='micro-average ROC curve (area = %0.2f)' % roc_auc)\n",
        "plt.plot([0, 1], [0, 1], color='navy', lw=2, linestyle='--')\n",
        "plt.xlim([0.0, 1.0])\n",
        "plt.ylim([0.0, 1.05])\n",
        "plt.xlabel('False Positive Rate')\n",
        "plt.ylabel('True Positive Rate')\n",
        "plt.title('Micro-Average ROC Curve')\n",
        "plt.legend(loc=\"lower right\")\n",
        "plt.show()"
      ],
      "metadata": {
        "colab": {
          "base_uri": "https://localhost:8080/",
          "height": 489
        },
        "id": "CZ6mQSaJ8zGK",
        "outputId": "10c468f2-7a8e-462d-eacc-72d07aaba85a"
      },
      "execution_count": 10,
      "outputs": [
        {
          "output_type": "stream",
          "name": "stdout",
          "text": [
            "Test AUC: 0.9999992237295094\n"
          ]
        },
        {
          "output_type": "display_data",
          "data": {
            "text/plain": [
              "<Figure size 640x480 with 1 Axes>"
            ],
            "image/png": "[encoded data removed]"
          },
          "metadata": {}
        }
      ]
    }
  ]
}